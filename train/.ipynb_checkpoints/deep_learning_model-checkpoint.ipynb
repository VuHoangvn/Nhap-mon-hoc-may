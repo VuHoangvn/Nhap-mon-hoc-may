{
 "cells": [
  {
   "cell_type": "code",
   "execution_count": 9,
   "metadata": {},
   "outputs": [
    {
     "name": "stdout",
     "output_type": "stream",
     "text": [
      "túi rất đẹp  túi đẹp may kĩ và tiện lợi khi bên trong và bên ngoài đều có túi nhỏdây kéo lại đẹp nói chung là rất đáng tiền mua \n",
      "\n"
     ]
    }
   ],
   "source": [
    "import json\n",
    "data = {}\n",
    "with open('train.txt', 'r') as fp:\n",
    "    line = fp.readline()\n",
    "    while line:\n",
    "        star = line[0]\n",
    "        review = line[2:]\n",
    "        data.append({\n",
    "            'star': star,\n",
    "            'review': review\n",
    "        })\n",
    "        line = fp.readline()\n",
    "with open('train.json', 'w') as outfile:\n",
    "    json.dump(data, outfile)\n"
   ]
  },
  {
   "cell_type": "code",
   "execution_count": null,
   "metadata": {},
   "outputs": [],
   "source": []
  }
 ],
 "metadata": {
  "kernelspec": {
   "display_name": "Python 3",
   "language": "python",
   "name": "python3"
  },
  "language_info": {
   "codemirror_mode": {
    "name": "ipython",
    "version": 3
   },
   "file_extension": ".py",
   "mimetype": "text/x-python",
   "name": "python",
   "nbconvert_exporter": "python",
   "pygments_lexer": "ipython3",
   "version": "3.6.8"
  }
 },
 "nbformat": 4,
 "nbformat_minor": 2
}
