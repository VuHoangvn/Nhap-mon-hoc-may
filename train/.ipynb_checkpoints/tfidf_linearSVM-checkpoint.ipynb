{
 "cells": [
  {
   "cell_type": "code",
   "execution_count": 31,
   "metadata": {},
   "outputs": [
    {
     "name": "stdout",
     "output_type": "stream",
     "text": [
      "trường đại_học bách_khoa hà_nội\n"
     ]
    }
   ],
   "source": [
    "import re\n",
    "import string\n",
    "from pyvi import ViTokenizer, ViPosTagger, ViUtils\n",
    "stop_word = []\n",
    "with open('stopword.txt') as fp:\n",
    "    for row in fp:\n",
    "        stop_word.append(row.strip())\n",
    "stop_word = set(stop_word)\n",
    "\n",
    "def preprocessing(text):\n",
    "    # to lower case\n",
    "    text = text.lower()\n",
    "    # number removing\n",
    "    text = re.sub(r'\\d+', '', text)\n",
    "    #remove punctuation\n",
    "    text = text.translate(str.maketrans(\"\",\"\", string.punctuation))\n",
    "    # remove white spaces\n",
    "    text = text.strip()\n",
    "    text = re.sub(' +', ' ', text)\n",
    "    # add accent\n",
    "#     text = ViUtils.add_accents(text)\n",
    "    # tokenize by pyvi\n",
    "    text = ViTokenizer.tokenize(text)\n",
    "    return text\n",
    "\n",
    "print(preprocessing('Trường đại học bách khoa hà nội'))"
   ]
  },
  {
   "cell_type": "code",
   "execution_count": 7,
   "metadata": {},
   "outputs": [],
   "source": [
    "# import json\n",
    "# star = []\n",
    "# review = []\n",
    "# with open('train.txt', 'r') as fp:\n",
    "#     line = fp.readline()\n",
    "#     while line:\n",
    "#         star.append(line[0])\n",
    "#         review.append(line[2:])\n",
    "#         line = fp.readline()\n",
    "# data = {\n",
    "#     'star': star,\n",
    "#     'review': review\n",
    "# }\n",
    "\n",
    "# df = pd.DataFrame.from_dict(data)\n",
    "# df.to_csv('train.csv', header=False)\n",
    "\n",
    "import csv\n",
    "star= []\n",
    "review = []\n",
    "with open('data_final2.csv') as csv_file:\n",
    "    for row in csv_file:\n",
    "        row = row.split('<fff>')\n",
    "        star.append(row[0])\n",
    "        review.append(preprocessing(row[1]))\n"
   ]
  },
  {
   "cell_type": "code",
   "execution_count": 8,
   "metadata": {},
   "outputs": [],
   "source": [
    "from collections import Counter"
   ]
  },
  {
   "cell_type": "code",
   "execution_count": 9,
   "metadata": {},
   "outputs": [],
   "source": [
    "# num_star = Counter(star)"
   ]
  },
  {
   "cell_type": "code",
   "execution_count": 10,
   "metadata": {},
   "outputs": [],
   "source": [
    "# num_star"
   ]
  },
  {
   "cell_type": "code",
   "execution_count": 11,
   "metadata": {},
   "outputs": [],
   "source": [
    "# from matplotlib import pyplot as plt\n",
    "# Xs = sorted(list(num_star.keys()))\n",
    "# Ys = [num_star[key]/len(star) for key in Xs]\n",
    "# plt.bar(Xs, Ys)\n",
    "# plt.show()"
   ]
  },
  {
   "cell_type": "code",
   "execution_count": 12,
   "metadata": {},
   "outputs": [],
   "source": [
    "def balance_classes(xs, ys):\n",
    "    freqs = Counter(ys)\n",
    "    max_allowable = freqs.most_common()[-1][1]\n",
    "    num_added = {clss: 0 for clss in freqs.keys()}\n",
    "    new_ys = []\n",
    "    new_xs = []\n",
    "    for i, y in enumerate(ys):\n",
    "        if num_added[y] < max_allowable:\n",
    "            new_ys.append(y)\n",
    "            new_xs.append(xs[i])\n",
    "            num_added[y] += 1\n",
    "    return new_xs, new_ys"
   ]
  },
  {
   "cell_type": "code",
   "execution_count": 13,
   "metadata": {},
   "outputs": [
    {
     "name": "stdout",
     "output_type": "stream",
     "text": [
      "Counter({'5': 24414, '4': 2618, '1': 2301, '3': 1601, '2': 955})\n",
      "Counter({'1': 955, '2': 955, '3': 955, '4': 955, '5': 955})\n"
     ]
    }
   ],
   "source": [
    "ys = Counter(star)\n",
    "print(ys)\n",
    "balanced_x, balanced_y = balance_classes(review, star)\n",
    "print(Counter(balanced_y))"
   ]
  },
  {
   "cell_type": "code",
   "execution_count": 14,
   "metadata": {},
   "outputs": [],
   "source": [
    "from sklearn.feature_extraction.text import TfidfVectorizer\n",
    "from datetime import datetime\n",
    "vectorizer = TfidfVectorizer(ngram_range=(1,2))\n",
    "t1 = datetime.now()\n",
    "vectors = vectorizer.fit_transform(balanced_x)"
   ]
  },
  {
   "cell_type": "code",
   "execution_count": 15,
   "metadata": {},
   "outputs": [],
   "source": [
    "\n",
    "from sklearn.model_selection import train_test_split\n",
    "X_train, X_test, y_train, y_test = train_test_split(vectors, balanced_y, test_size=0.33, random_state=42)"
   ]
  },
  {
   "cell_type": "code",
   "execution_count": 16,
   "metadata": {},
   "outputs": [
    {
     "name": "stdout",
     "output_type": "stream",
     "text": [
      "0:00:00.089630\n"
     ]
    }
   ],
   "source": [
    "from sklearn.svm import LinearSVC\n",
    " \n",
    "# initialise the SVM classifier\n",
    "classifier = LinearSVC()\n",
    " \n",
    "# train the classifier\n",
    "t1 = datetime.now()\n",
    "classifier.fit(X_train, y_train)\n",
    "print(datetime.now() - t1)"
   ]
  },
  {
   "cell_type": "code",
   "execution_count": 17,
   "metadata": {},
   "outputs": [],
   "source": [
    "preds = classifier.predict(X_test)\n",
    "# print(list(preds[:300]))\n",
    "# print(y_test[:300])"
   ]
  },
  {
   "cell_type": "code",
   "execution_count": 18,
   "metadata": {},
   "outputs": [
    {
     "name": "stdout",
     "output_type": "stream",
     "text": [
      "0.4619289340101523\n"
     ]
    }
   ],
   "source": [
    "from sklearn.metrics import accuracy_score\n",
    "print(accuracy_score(y_test, preds))\n"
   ]
  },
  {
   "cell_type": "code",
   "execution_count": null,
   "metadata": {},
   "outputs": [],
   "source": []
  }
 ],
 "metadata": {
  "kernelspec": {
   "display_name": "Python 3",
   "language": "python",
   "name": "python3"
  },
  "language_info": {
   "codemirror_mode": {
    "name": "ipython",
    "version": 3
   },
   "file_extension": ".py",
   "mimetype": "text/x-python",
   "name": "python",
   "nbconvert_exporter": "python",
   "pygments_lexer": "ipython3",
   "version": "3.6.8"
  }
 },
 "nbformat": 4,
 "nbformat_minor": 2
}
