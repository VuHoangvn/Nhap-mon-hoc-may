{
 "cells": [
  {
   "cell_type": "code",
   "execution_count": 68,
   "metadata": {},
   "outputs": [],
   "source": [
    "from selenium import webdriver\n",
    "from selenium.webdriver.common.by import By\n",
    "from selenium.webdriver.support.ui import WebDriverWait\n",
    "from selenium.webdriver.support import expected_conditions as EC\n",
    "from selenium.common.exceptions import TimeoutException\n",
    "from selenium.webdriver.common.action_chains import ActionChains\n",
    "import pandas as pd\n",
    "import time"
   ]
  },
  {
   "cell_type": "code",
   "execution_count": 78,
   "metadata": {},
   "outputs": [],
   "source": [
    "## sử dụng driver của chrome để truy cập link\n",
    "driver = webdriver.Chrome(executable_path='./chromedriver')\n",
    "driver.get('https://www.lazada.vn')"
   ]
  },
  {
   "cell_type": "code",
   "execution_count": 83,
   "metadata": {},
   "outputs": [],
   "source": [
    "## tìm đến mục category của lazada\n",
    "# category = driver.find_elements_by_css_selector('.sub-item-remove-arrow')\n",
    "category = driver.find_elements_by_xpath(\"//li[@class='lzd-site-menu-sub-item']/a\")\n",
    "link_category = []\n",
    "for c in category:\n",
    "    link_category.append(c.get_attribute('href'))\n",
    "driver.close()"
   ]
  },
  {
   "cell_type": "code",
   "execution_count": 97,
   "metadata": {},
   "outputs": [
    {
     "name": "stdout",
     "output_type": "stream",
     "text": [
      "https://www.lazada.vn/laptop/\n",
      "https://www.lazada.vn/may-tinh-de-ban-va-phu-kien/\n",
      "https://www.lazada.vn/am-thanh/\n",
      "https://www.lazada.vn/dieu-khien-choi-game/\n",
      "https://www.lazada.vn/may-quay-phim/\n",
      "https://www.lazada.vn/camera-giam-sat-2/\n",
      "https://www.lazada.vn/may-anh-may-quay-phim/\n",
      "https://www.lazada.vn/thiet-bi-so/\n",
      "https://www.lazada.vn/phu-kien-dien-thoai-may-tinh-bang/\n",
      "https://www.lazada.vn/phu-kien-may-vi-tinh/\n",
      "https://www.lazada.vn/thiet-bi-mang/\n",
      "https://www.lazada.vn/linh-kien-may-tinh/\n",
      "https://www.lazada.vn/phu-kien-may-anh-may-quay-phim/\n",
      "https://www.lazada.vn/phu-kien-thiet-bi-theo-doi-van-dong/\n",
      "https://www.lazada.vn/thiet-bi-luu-tru-2/\n",
      "https://www.lazada.vn/dieu-khien-choi-game/\n",
      "https://www.lazada.vn/man-hinh-may-in/\n",
      "https://www.lazada.vn/op-lung-bao-da-may-tinh-bang/\n",
      "https://www.lazada.vn/tv-video-am-thanh-thiet-bi-deo-cong-nghe/\n",
      "https://www.lazada.vn/phu-kien-cho-tv/\n",
      "https://www.lazada.vn/he-thong-giai-tri-cho-tai-gia/\n",
      "https://www.lazada.vn/do-gia-dung-lon/\n",
      "https://www.lazada.vn/do-gia-dung-nha-bep/\n",
      "https://www.lazada.vn/thiet-bi-lam-mat-nho-dieu-hoa-khong-khi/\n",
      "https://www.lazada.vn/choi-cay-lau-san-nha/\n",
      "https://www.lazada.vn/may-may/\n",
      "https://www.lazada.vn/cham-soc-ca-nhan/\n",
      "https://www.lazada.vn/thiet-bi-do-gia-dung/\n",
      "https://www.lazada.vn/trang-diem/\n",
      "https://www.lazada.vn/cham-soc-da-mat/\n",
      "https://www.lazada.vn/san-pham-cham-soc-toc/\n",
      "https://www.lazada.vn/dung-cu-cham-soc-sac-dep/\n",
      "https://www.lazada.vn/nuoc-hoa/\n",
      "https://www.lazada.vn/cham-soc-cho-nam-gioi/\n",
      "https://www.lazada.vn/san-pham-tam-cham-soc-co-the/\n",
      "https://www.lazada.vn/thuc-pham-bo-sung/\n",
      "https://www.lazada.vn/thiet-bi-y-te/\n",
      "https://www.lazada.vn/cham-soc-ca-nhan/\n",
      "https://www.lazada.vn/cham-soc-tre-so-sinh-tre-nho/\n",
      "https://www.lazada.vn/do-dung-bu-sua-an-dam/\n",
      "https://www.lazada.vn/quan-ao-phu-kien-cho-be/\n",
      "https://www.lazada.vn/ta-dung-cu-ve-sinh/\n",
      "https://www.lazada.vn/dung-cu-cham-soc-co-the-tre-em/\n",
      "https://www.lazada.vn/xe-ghe-em-be/\n",
      "https://www.lazada.vn/do-choi-cho-tre-so-sinh-chap-chung/\n",
      "https://www.lazada.vn/do-choi-bo-suu-tap-nhan-vat/\n",
      "https://www.lazada.vn/the-thao-tro-choi-ngoai-troi/\n",
      "https://www.lazada.vn/xe-mo-hinh-tro-choi-dieu-khien-tu-xa/\n",
      "https://www.lazada.vn/do-an-sang/\n",
      "https://www.lazada.vn/shop-Mi-ly-to/\n",
      "https://www.lazada.vn/cac-loai-do-uong/\n",
      "https://www.lazada.vn/thuc-uong-co-con/\n",
      "https://www.lazada.vn/cham-soc-nha-cua/\n",
      "https://www.lazada.vn/shop-Tui-so-co-la/\n",
      "https://www.lazada.vn/phu-kien-hut-thuoc/\n",
      "https://www.lazada.vn/shop-Banh-quy-so-co-la/\n",
      "https://www.lazada.vn/cham-soc-thu-cung/\n",
      "https://www.lazada.vn/do-dung-bep-phong-an/\n",
      "https://www.lazada.vn/cac-loai-den/\n",
      "https://www.lazada.vn/do-dung-phong-ngu-gia-dinh/\n",
      "https://www.lazada.vn/do-dung-phu-kien-phong-tam/\n",
      "https://www.lazada.vn/san-pham-noi-that/\n",
      "https://www.lazada.vn/san-pham-trang-tri-nha-cua/\n",
      "https://www.lazada.vn/tan-trang-nha-cua/\n",
      "https://www.lazada.vn/van-phong-pham-va-nghe-thu-cong/\n",
      "https://www.lazada.vn/sach/\n",
      "https://www.lazada.vn/nhac-cu-moi/\n",
      "https://www.lazada.vn/jeans-nu/\n",
      "https://www.lazada.vn/ao-nu/\n",
      "https://www.lazada.vn/do-ngu-noi-y/\n",
      "https://www.lazada.vn/phu-kien-cho-nu/\n",
      "https://www.lazada.vn/giay-nu-thoi-trang/\n",
      "https://www.lazada.vn/trang-phuc-cua-be-gai/\n",
      "https://www.lazada.vn/thoi-trang-giay-danh-cho-be-gai/\n",
      "https://www.lazada.vn/trang-phuc-nam/\n",
      "https://www.lazada.vn/giay-nam-thoi-trang/\n",
      "https://www.lazada.vn/do-lot-nam/\n",
      "https://www.lazada.vn/phu-kien-thoi-trang-nam/\n",
      "https://www.lazada.vn/trang-phuc-cua-be-trai/\n",
      "https://www.lazada.vn/thoi-trang-giay-cho-be-trai/\n",
      "https://www.lazada.vn/dong-ho-nu-thoi-trang/\n",
      "https://www.lazada.vn/Fashion-Accessories/\n",
      "https://www.lazada.vn/kinh-mat/\n",
      "https://www.lazada.vn/kinh-mat-2/\n",
      "https://www.lazada.vn/tui-cho-nu/\n",
      "https://www.lazada.vn/dong-ho-nam-gioi/\n",
      "https://www.lazada.vn/trang-suc-nam/\n",
      "https://www.lazada.vn/tui-nam/\n",
      "https://www.lazada.vn/vali-ba-lo-tui-du-lich-2/\n",
      "https://www.lazada.vn/tui-danh-cho-tre-em/\n",
      "https://www.lazada.vn/vali-ba-lo-tui-du-lich-2/\n",
      "https://www.lazada.vn/dung-cu-de-tap-the-hinh/\n",
      "https://www.lazada.vn/hoat-dong-da-ngoai/\n",
      "https://www.lazada.vn/quan-ao-the-thao-cho-nam/\n",
      "https://www.lazada.vn/do-the-thao-nam/\n",
      "https://www.lazada.vn/quan-ao-the-thao-cho-nu/\n",
      "https://www.lazada.vn/do-the-thao-nu/\n",
      "https://www.lazada.vn/cac-mon-the-thao-vot/\n",
      "https://www.lazada.vn/cac-mon-tap-luyen-doi-khang/\n",
      "https://www.lazada.vn/dam-boc-vo-thuat-danh-mma/\n",
      "https://www.lazada.vn/cac-mon-the-thao-duoi-nuoc/\n",
      "https://www.lazada.vn/phu-kien-thiet-bi-theo-doi-van-dong/\n",
      "https://www.lazada.vn/xe-mo-to-xe-tay-ga/\n",
      "https://www.lazada.vn/cham-soc-o-to/\n",
      "https://www.lazada.vn/phu-kien-trong-o-to-xe-may/\n",
      "https://www.lazada.vn/phu-kien-ngoai-o-to-xe-may/\n",
      "https://www.lazada.vn/bo-phan-phu-tung-thay-the-cho-xe/\n",
      "https://www.lazada.vn/hang-dien-tu-2/\n",
      "https://www.lazada.vn/dau-nhot-o-to-xe-may/\n",
      "https://www.lazada.vn/bo-phan-mo-to-phu-tung-thay-the-cho-mo-to/\n",
      "https://www.lazada.vn/do-bao-ho-mo-to/\n",
      "https://www.lazada.vn/phu-kien-gan-ngoai-mo-to/\n",
      "https://www.lazada.vn/dau-nhot-mo-to/\n",
      "https://www.lazada.vn/banh-xe-lop-xe-may/\n"
     ]
    }
   ],
   "source": [
    "for item in link_category:\n",
    "    print(item)\n"
   ]
  },
  {
   "cell_type": "code",
   "execution_count": 105,
   "metadata": {},
   "outputs": [
    {
     "name": "stdout",
     "output_type": "stream",
     "text": [
      "https://www.lazada.vn/products/pc-choi-game-a6-6400-36ghz-ram-8g-vga-4g-hdd-250g-case-nguon-phim-chuot-led-nhu-hinh-i272770358-s414918507.html?search=1\n"
     ]
    }
   ],
   "source": [
    "driver = webdriver.Chrome(executable_path='./chromedriver')\n",
    "driver.get(link_category[1])\n",
    "xpath = \"//div[@class='c2prKC']/div/div/div/div[@class='cRjKsc']/a\"\n",
    "sub_elem = driver.find_elements_by_xpath(xpath)\n",
    "link_sub_category = []\n",
    "for s in sub_elem:\n",
    "    link_sub_category.append(s.get_attribute('href'))\n",
    "print(link_sub_category[0])\n",
    "driver.close()"
   ]
  },
  {
   "cell_type": "code",
   "execution_count": 104,
   "metadata": {},
   "outputs": [
    {
     "name": "stdout",
     "output_type": "stream",
     "text": [
      "[<selenium.webdriver.remote.webelement.WebElement (session=\"ed359c21e088b0bb1bed453620693fde\", element=\"9b85e1dd-d46f-4086-98e8-cc3eb32471bb\")>, <selenium.webdriver.remote.webelement.WebElement (session=\"ed359c21e088b0bb1bed453620693fde\", element=\"6c1f730c-2eef-4ae6-9a83-22eddca722e0\")>]\n",
      "[<selenium.webdriver.remote.webelement.WebElement (session=\"ed359c21e088b0bb1bed453620693fde\", element=\"241f4b33-b601-41b8-97bb-54e9cf816e10\")>, <selenium.webdriver.remote.webelement.WebElement (session=\"ed359c21e088b0bb1bed453620693fde\", element=\"d4958a56-e4b0-4af4-9636-75f5fd0132da\")>]\n",
      "[<selenium.webdriver.remote.webelement.WebElement (session=\"ed359c21e088b0bb1bed453620693fde\", element=\"6529cdd3-9b9e-4930-8fe5-42a976a57c98\")>, <selenium.webdriver.remote.webelement.WebElement (session=\"ed359c21e088b0bb1bed453620693fde\", element=\"12c85d47-133e-42cd-905d-85756e774eb7\")>]\n",
      "[<selenium.webdriver.remote.webelement.WebElement (session=\"ed359c21e088b0bb1bed453620693fde\", element=\"07172a06-67e2-403e-8d6f-e2fe364d0917\")>, <selenium.webdriver.remote.webelement.WebElement (session=\"ed359c21e088b0bb1bed453620693fde\", element=\"1ddb80d6-f8a8-40ba-b61c-837f64144107\")>]\n",
      "[<selenium.webdriver.remote.webelement.WebElement (session=\"ed359c21e088b0bb1bed453620693fde\", element=\"4f440763-cc86-4a7c-bc84-536ae5d1f6aa\")>, <selenium.webdriver.remote.webelement.WebElement (session=\"ed359c21e088b0bb1bed453620693fde\", element=\"6415ba7f-897f-4208-b1ff-908ce3c77af9\")>]\n",
      "[<selenium.webdriver.remote.webelement.WebElement (session=\"ed359c21e088b0bb1bed453620693fde\", element=\"9b85e1dd-d46f-4086-98e8-cc3eb32471bb\")>, <selenium.webdriver.remote.webelement.WebElement (session=\"ed359c21e088b0bb1bed453620693fde\", element=\"6c1f730c-2eef-4ae6-9a83-22eddca722e0\")>]\n"
     ]
    },
    {
     "ename": "StaleElementReferenceException",
     "evalue": "Message: stale element reference: element is not attached to the page document\n  (Session info: chrome=76.0.3809.132)\n",
     "output_type": "error",
     "traceback": [
      "\u001b[0;31m---------------------------------------------------------------------------\u001b[0m",
      "\u001b[0;31mStaleElementReferenceException\u001b[0m            Traceback (most recent call last)",
      "\u001b[0;32m<ipython-input-104-40663380b645>\u001b[0m in \u001b[0;36m<module>\u001b[0;34m\u001b[0m\n\u001b[1;32m     21\u001b[0m         \u001b[0mcomment_container\u001b[0m \u001b[0;34m=\u001b[0m \u001b[0mreview\u001b[0m\u001b[0;34m.\u001b[0m\u001b[0mfind_elements_by_class_name\u001b[0m\u001b[0;34m(\u001b[0m\u001b[0;34m'item-content'\u001b[0m\u001b[0;34m)\u001b[0m\u001b[0;34m\u001b[0m\u001b[0;34m\u001b[0m\u001b[0m\n\u001b[1;32m     22\u001b[0m         \u001b[0mprint\u001b[0m\u001b[0;34m(\u001b[0m\u001b[0mcomment_container\u001b[0m\u001b[0;34m)\u001b[0m\u001b[0;34m\u001b[0m\u001b[0;34m\u001b[0m\u001b[0m\n\u001b[0;32m---> 23\u001b[0;31m         \u001b[0mcomment\u001b[0m \u001b[0;34m=\u001b[0m \u001b[0mcomment_container\u001b[0m\u001b[0;34m[\u001b[0m\u001b[0;36m0\u001b[0m\u001b[0;34m]\u001b[0m\u001b[0;34m.\u001b[0m\u001b[0mfind_elements_by_class_name\u001b[0m\u001b[0;34m(\u001b[0m\u001b[0;34m'content'\u001b[0m\u001b[0;34m)\u001b[0m\u001b[0;34m[\u001b[0m\u001b[0;36m0\u001b[0m\u001b[0;34m]\u001b[0m\u001b[0;34m.\u001b[0m\u001b[0mtext\u001b[0m\u001b[0;34m\u001b[0m\u001b[0;34m\u001b[0m\u001b[0m\n\u001b[0m\u001b[1;32m     24\u001b[0m         \u001b[0marr_star\u001b[0m\u001b[0;34m.\u001b[0m\u001b[0mappend\u001b[0m\u001b[0;34m(\u001b[0m\u001b[0mstars\u001b[0m\u001b[0;34m)\u001b[0m\u001b[0;34m\u001b[0m\u001b[0;34m\u001b[0m\u001b[0m\n\u001b[1;32m     25\u001b[0m         \u001b[0marr_comment\u001b[0m\u001b[0;34m.\u001b[0m\u001b[0mappend\u001b[0m\u001b[0;34m(\u001b[0m\u001b[0mcomment\u001b[0m\u001b[0;34m)\u001b[0m\u001b[0;34m\u001b[0m\u001b[0;34m\u001b[0m\u001b[0m\n",
      "\u001b[0;32m~/.local/lib/python3.6/site-packages/selenium/webdriver/remote/webelement.py\u001b[0m in \u001b[0;36mfind_elements_by_class_name\u001b[0;34m(self, name)\u001b[0m\n\u001b[1;32m    411\u001b[0m             \u001b[0melements\u001b[0m \u001b[0;34m=\u001b[0m \u001b[0melement\u001b[0m\u001b[0;34m.\u001b[0m\u001b[0mfind_elements_by_class_name\u001b[0m\u001b[0;34m(\u001b[0m\u001b[0;34m'foo'\u001b[0m\u001b[0;34m)\u001b[0m\u001b[0;34m\u001b[0m\u001b[0;34m\u001b[0m\u001b[0m\n\u001b[1;32m    412\u001b[0m         \"\"\"\n\u001b[0;32m--> 413\u001b[0;31m         \u001b[0;32mreturn\u001b[0m \u001b[0mself\u001b[0m\u001b[0;34m.\u001b[0m\u001b[0mfind_elements\u001b[0m\u001b[0;34m(\u001b[0m\u001b[0mby\u001b[0m\u001b[0;34m=\u001b[0m\u001b[0mBy\u001b[0m\u001b[0;34m.\u001b[0m\u001b[0mCLASS_NAME\u001b[0m\u001b[0;34m,\u001b[0m \u001b[0mvalue\u001b[0m\u001b[0;34m=\u001b[0m\u001b[0mname\u001b[0m\u001b[0;34m)\u001b[0m\u001b[0;34m\u001b[0m\u001b[0;34m\u001b[0m\u001b[0m\n\u001b[0m\u001b[1;32m    414\u001b[0m \u001b[0;34m\u001b[0m\u001b[0m\n\u001b[1;32m    415\u001b[0m     \u001b[0;32mdef\u001b[0m \u001b[0mfind_element_by_css_selector\u001b[0m\u001b[0;34m(\u001b[0m\u001b[0mself\u001b[0m\u001b[0;34m,\u001b[0m \u001b[0mcss_selector\u001b[0m\u001b[0;34m)\u001b[0m\u001b[0;34m:\u001b[0m\u001b[0;34m\u001b[0m\u001b[0;34m\u001b[0m\u001b[0m\n",
      "\u001b[0;32m~/.local/lib/python3.6/site-packages/selenium/webdriver/remote/webelement.py\u001b[0m in \u001b[0;36mfind_elements\u001b[0;34m(self, by, value)\u001b[0m\n\u001b[1;32m    683\u001b[0m \u001b[0;34m\u001b[0m\u001b[0m\n\u001b[1;32m    684\u001b[0m         return self._execute(Command.FIND_CHILD_ELEMENTS,\n\u001b[0;32m--> 685\u001b[0;31m                              {\"using\": by, \"value\": value})['value']\n\u001b[0m\u001b[1;32m    686\u001b[0m \u001b[0;34m\u001b[0m\u001b[0m\n\u001b[1;32m    687\u001b[0m     \u001b[0;32mdef\u001b[0m \u001b[0m__hash__\u001b[0m\u001b[0;34m(\u001b[0m\u001b[0mself\u001b[0m\u001b[0;34m)\u001b[0m\u001b[0;34m:\u001b[0m\u001b[0;34m\u001b[0m\u001b[0;34m\u001b[0m\u001b[0m\n",
      "\u001b[0;32m~/.local/lib/python3.6/site-packages/selenium/webdriver/remote/webelement.py\u001b[0m in \u001b[0;36m_execute\u001b[0;34m(self, command, params)\u001b[0m\n\u001b[1;32m    631\u001b[0m             \u001b[0mparams\u001b[0m \u001b[0;34m=\u001b[0m \u001b[0;34m{\u001b[0m\u001b[0;34m}\u001b[0m\u001b[0;34m\u001b[0m\u001b[0;34m\u001b[0m\u001b[0m\n\u001b[1;32m    632\u001b[0m         \u001b[0mparams\u001b[0m\u001b[0;34m[\u001b[0m\u001b[0;34m'id'\u001b[0m\u001b[0;34m]\u001b[0m \u001b[0;34m=\u001b[0m \u001b[0mself\u001b[0m\u001b[0;34m.\u001b[0m\u001b[0m_id\u001b[0m\u001b[0;34m\u001b[0m\u001b[0;34m\u001b[0m\u001b[0m\n\u001b[0;32m--> 633\u001b[0;31m         \u001b[0;32mreturn\u001b[0m \u001b[0mself\u001b[0m\u001b[0;34m.\u001b[0m\u001b[0m_parent\u001b[0m\u001b[0;34m.\u001b[0m\u001b[0mexecute\u001b[0m\u001b[0;34m(\u001b[0m\u001b[0mcommand\u001b[0m\u001b[0;34m,\u001b[0m \u001b[0mparams\u001b[0m\u001b[0;34m)\u001b[0m\u001b[0;34m\u001b[0m\u001b[0;34m\u001b[0m\u001b[0m\n\u001b[0m\u001b[1;32m    634\u001b[0m \u001b[0;34m\u001b[0m\u001b[0m\n\u001b[1;32m    635\u001b[0m     \u001b[0;32mdef\u001b[0m \u001b[0mfind_element\u001b[0m\u001b[0;34m(\u001b[0m\u001b[0mself\u001b[0m\u001b[0;34m,\u001b[0m \u001b[0mby\u001b[0m\u001b[0;34m=\u001b[0m\u001b[0mBy\u001b[0m\u001b[0;34m.\u001b[0m\u001b[0mID\u001b[0m\u001b[0;34m,\u001b[0m \u001b[0mvalue\u001b[0m\u001b[0;34m=\u001b[0m\u001b[0;32mNone\u001b[0m\u001b[0;34m)\u001b[0m\u001b[0;34m:\u001b[0m\u001b[0;34m\u001b[0m\u001b[0;34m\u001b[0m\u001b[0m\n",
      "\u001b[0;32m~/.local/lib/python3.6/site-packages/selenium/webdriver/remote/webdriver.py\u001b[0m in \u001b[0;36mexecute\u001b[0;34m(self, driver_command, params)\u001b[0m\n\u001b[1;32m    319\u001b[0m         \u001b[0mresponse\u001b[0m \u001b[0;34m=\u001b[0m \u001b[0mself\u001b[0m\u001b[0;34m.\u001b[0m\u001b[0mcommand_executor\u001b[0m\u001b[0;34m.\u001b[0m\u001b[0mexecute\u001b[0m\u001b[0;34m(\u001b[0m\u001b[0mdriver_command\u001b[0m\u001b[0;34m,\u001b[0m \u001b[0mparams\u001b[0m\u001b[0;34m)\u001b[0m\u001b[0;34m\u001b[0m\u001b[0;34m\u001b[0m\u001b[0m\n\u001b[1;32m    320\u001b[0m         \u001b[0;32mif\u001b[0m \u001b[0mresponse\u001b[0m\u001b[0;34m:\u001b[0m\u001b[0;34m\u001b[0m\u001b[0;34m\u001b[0m\u001b[0m\n\u001b[0;32m--> 321\u001b[0;31m             \u001b[0mself\u001b[0m\u001b[0;34m.\u001b[0m\u001b[0merror_handler\u001b[0m\u001b[0;34m.\u001b[0m\u001b[0mcheck_response\u001b[0m\u001b[0;34m(\u001b[0m\u001b[0mresponse\u001b[0m\u001b[0;34m)\u001b[0m\u001b[0;34m\u001b[0m\u001b[0;34m\u001b[0m\u001b[0m\n\u001b[0m\u001b[1;32m    322\u001b[0m             response['value'] = self._unwrap_value(\n\u001b[1;32m    323\u001b[0m                 response.get('value', None))\n",
      "\u001b[0;32m~/.local/lib/python3.6/site-packages/selenium/webdriver/remote/errorhandler.py\u001b[0m in \u001b[0;36mcheck_response\u001b[0;34m(self, response)\u001b[0m\n\u001b[1;32m    240\u001b[0m                 \u001b[0malert_text\u001b[0m \u001b[0;34m=\u001b[0m \u001b[0mvalue\u001b[0m\u001b[0;34m[\u001b[0m\u001b[0;34m'alert'\u001b[0m\u001b[0;34m]\u001b[0m\u001b[0;34m.\u001b[0m\u001b[0mget\u001b[0m\u001b[0;34m(\u001b[0m\u001b[0;34m'text'\u001b[0m\u001b[0;34m)\u001b[0m\u001b[0;34m\u001b[0m\u001b[0;34m\u001b[0m\u001b[0m\n\u001b[1;32m    241\u001b[0m             \u001b[0;32mraise\u001b[0m \u001b[0mexception_class\u001b[0m\u001b[0;34m(\u001b[0m\u001b[0mmessage\u001b[0m\u001b[0;34m,\u001b[0m \u001b[0mscreen\u001b[0m\u001b[0;34m,\u001b[0m \u001b[0mstacktrace\u001b[0m\u001b[0;34m,\u001b[0m \u001b[0malert_text\u001b[0m\u001b[0;34m)\u001b[0m\u001b[0;34m\u001b[0m\u001b[0;34m\u001b[0m\u001b[0m\n\u001b[0;32m--> 242\u001b[0;31m         \u001b[0;32mraise\u001b[0m \u001b[0mexception_class\u001b[0m\u001b[0;34m(\u001b[0m\u001b[0mmessage\u001b[0m\u001b[0;34m,\u001b[0m \u001b[0mscreen\u001b[0m\u001b[0;34m,\u001b[0m \u001b[0mstacktrace\u001b[0m\u001b[0;34m)\u001b[0m\u001b[0;34m\u001b[0m\u001b[0;34m\u001b[0m\u001b[0m\n\u001b[0m\u001b[1;32m    243\u001b[0m \u001b[0;34m\u001b[0m\u001b[0m\n\u001b[1;32m    244\u001b[0m     \u001b[0;32mdef\u001b[0m \u001b[0m_value_or_default\u001b[0m\u001b[0;34m(\u001b[0m\u001b[0mself\u001b[0m\u001b[0;34m,\u001b[0m \u001b[0mobj\u001b[0m\u001b[0;34m,\u001b[0m \u001b[0mkey\u001b[0m\u001b[0;34m,\u001b[0m \u001b[0mdefault\u001b[0m\u001b[0;34m)\u001b[0m\u001b[0;34m:\u001b[0m\u001b[0;34m\u001b[0m\u001b[0;34m\u001b[0m\u001b[0m\n",
      "\u001b[0;31mStaleElementReferenceException\u001b[0m: Message: stale element reference: element is not attached to the page document\n  (Session info: chrome=76.0.3809.132)\n"
     ]
    }
   ],
   "source": [
    "driver = webdriver.Chrome(executable_path='./chromedriver')\n",
    "driver.get(link_sub_category[0])\n",
    "\n",
    "menu = driver.find_element_by_css_selector('.next-pagination-pages')\n",
    "next_comments = driver.find_element_by_css_selector('.next')\n",
    "actions = ActionChains(driver)\n",
    "x = 0;\n",
    "arr_star = []\n",
    "arr_comment = []\n",
    "while True:\n",
    "    review_containers = driver.find_elements_by_class_name('mod-reviews')\n",
    "    mod_reviews = review_containers[0].find_elements_by_class_name('item')\n",
    "    i = 1\n",
    "    for review in mod_reviews:  \n",
    "        container = review.find_elements_by_class_name('top')\n",
    "        star_container = container[0].find_elements_by_class_name('container-star')\n",
    "        xpath = '//div[@class=\"mod-reviews\"]/div[%d]/div[@class = \"top\"]/div[@class = \"container-star starCtn left\"]/img[@src = \"//laz-img-cdn.alicdn.com/tfs/TB19ZvEgfDH8KJjy1XcXXcpdXXa-64-64.png\"]'\n",
    "        star_imgs = driver.find_elements_by_xpath(xpath % i)\n",
    "        stars = len(star_imgs)\n",
    "        i = i + 1\n",
    "        comment_container = review.find_elements_by_class_name('item-content')\n",
    "        print(comment_container)\n",
    "        comment = comment_container[0].find_elements_by_class_name('content')[0].text\n",
    "        arr_star.append(stars)\n",
    "        arr_comment.append(comment)\n",
    "    x = x + 1\n",
    "    if not next_comments.is_enabled():\n",
    "        break;\n",
    "    actions.move_to_element(menu)\n",
    "    actions.click(next_comments)\n",
    "    actions.perform()\n",
    "    time.sleep(0.05)\n",
    "\n",
    "data = {\n",
    "        'stars': arr_star,\n",
    "        'comment': arr_comment\n",
    "}\n",
    "df_product = pd.DataFrame.from_dict(data)\n",
    "df_product.to_csv('product_info.csv',mode='a', header=False)\n",
    "driver.close()"
   ]
  },
  {
   "cell_type": "code",
   "execution_count": null,
   "metadata": {},
   "outputs": [],
   "source": []
  }
 ],
 "metadata": {
  "kernelspec": {
   "display_name": "Python 3",
   "language": "python",
   "name": "python3"
  },
  "language_info": {
   "codemirror_mode": {
    "name": "ipython",
    "version": 3
   },
   "file_extension": ".py",
   "mimetype": "text/x-python",
   "name": "python",
   "nbconvert_exporter": "python",
   "pygments_lexer": "ipython3",
   "version": "3.6.8"
  }
 },
 "nbformat": 4,
 "nbformat_minor": 2
}
