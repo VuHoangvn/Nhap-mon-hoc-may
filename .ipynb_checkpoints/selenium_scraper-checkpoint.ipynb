{
 "cells": [
  {
   "cell_type": "code",
   "execution_count": 1,
   "metadata": {},
   "outputs": [],
   "source": [
    "from selenium import webdriver\n",
    "from selenium.webdriver.common.by import By\n",
    "from selenium.webdriver.support.ui import WebDriverWait\n",
    "from selenium.webdriver.support import expected_conditions as EC\n",
    "from selenium.common.exceptions import TimeoutException\n",
    "from selenium.webdriver.common.action_chains import ActionChains\n",
    "import pandas as pd\n",
    "import time"
   ]
  },
  {
   "cell_type": "code",
   "execution_count": 13,
   "metadata": {},
   "outputs": [],
   "source": [
    "## truy cập link vs chrome driver\n",
    "driver = webdriver.Chrome(executable_path='./chromedriver')\n",
    "driver.get('https://www.lazada.vn/products/combo-ban-phim-co-chuot-choi-game-led-rgb-blue-switch-fantech-mvp-862-hang-phan-phoi-chinh-thuc-i280814001-s439160995.html?spm=a2o4n.searchlistcategory.list.2.1dc85deejDCFyJ&search=1')"
   ]
  },
  {
   "cell_type": "code",
   "execution_count": 14,
   "metadata": {},
   "outputs": [
    {
     "name": "stdout",
     "output_type": "stream",
     "text": [
      "[<selenium.webdriver.remote.webelement.WebElement (session=\"42518456a21edbd4fb20cd6963331f5d\", element=\"bf257b10-f7ce-4b8e-a6e7-f64b094cec4c\")>, <selenium.webdriver.remote.webelement.WebElement (session=\"42518456a21edbd4fb20cd6963331f5d\", element=\"00165db8-6d7e-4b03-87ae-aeab15aaad00\")>]\n",
      "[<selenium.webdriver.remote.webelement.WebElement (session=\"42518456a21edbd4fb20cd6963331f5d\", element=\"075ef601-90bf-41fb-8b4a-f4a85c72609c\")>]\n",
      "[<selenium.webdriver.remote.webelement.WebElement (session=\"42518456a21edbd4fb20cd6963331f5d\", element=\"bf257b10-f7ce-4b8e-a6e7-f64b094cec4c\")>, <selenium.webdriver.remote.webelement.WebElement (session=\"42518456a21edbd4fb20cd6963331f5d\", element=\"00165db8-6d7e-4b03-87ae-aeab15aaad00\")>]\n",
      "[<selenium.webdriver.remote.webelement.WebElement (session=\"42518456a21edbd4fb20cd6963331f5d\", element=\"075ef601-90bf-41fb-8b4a-f4a85c72609c\")>]\n",
      "[<selenium.webdriver.remote.webelement.WebElement (session=\"42518456a21edbd4fb20cd6963331f5d\", element=\"bf257b10-f7ce-4b8e-a6e7-f64b094cec4c\")>, <selenium.webdriver.remote.webelement.WebElement (session=\"42518456a21edbd4fb20cd6963331f5d\", element=\"00165db8-6d7e-4b03-87ae-aeab15aaad00\")>]\n",
      "[<selenium.webdriver.remote.webelement.WebElement (session=\"42518456a21edbd4fb20cd6963331f5d\", element=\"075ef601-90bf-41fb-8b4a-f4a85c72609c\")>]\n",
      "[<selenium.webdriver.remote.webelement.WebElement (session=\"42518456a21edbd4fb20cd6963331f5d\", element=\"bf257b10-f7ce-4b8e-a6e7-f64b094cec4c\")>, <selenium.webdriver.remote.webelement.WebElement (session=\"42518456a21edbd4fb20cd6963331f5d\", element=\"00165db8-6d7e-4b03-87ae-aeab15aaad00\")>]\n",
      "[<selenium.webdriver.remote.webelement.WebElement (session=\"42518456a21edbd4fb20cd6963331f5d\", element=\"075ef601-90bf-41fb-8b4a-f4a85c72609c\")>]\n",
      "4\n"
     ]
    }
   ],
   "source": [
    "## tìm elem chứa comment và star\n",
    "menu = driver.find_element_by_css_selector('.next-pagination-pages')\n",
    "next_comments = driver.find_element_by_css_selector('.next')\n",
    "actions = ActionChains(driver)\n",
    "x = 0;\n",
    "arr_star = []\n",
    "arr_comment = []\n",
    "while x < 8:\n",
    "    review_containers = driver.find_elements_by_class_name('mod-reviews')\n",
    "    mod_reviews = review_containers[0].find_elements_by_class_name('item')\n",
    "    i = 1\n",
    "    for review in mod_reviews:  \n",
    "        container = review.find_elements_by_class_name('top')\n",
    "        star_container = container[0].find_elements_by_class_name('container-star')\n",
    "        xpath = '//div[@class=\"mod-reviews\"]/div[%d]/div[@class = \"top\"]/div[@class = \"container-star starCtn left\"]/img[@src = \"//laz-img-cdn.alicdn.com/tfs/TB19ZvEgfDH8KJjy1XcXXcpdXXa-64-64.png\"]'\n",
    "        star_imgs = driver.find_elements_by_xpath(xpath % i)\n",
    "        stars = len(star_imgs)\n",
    "        i = i + 1\n",
    "        comment_container = review.find_elements_by_class_name('item-content')\n",
    "        print(comment_container)\n",
    "        comment = comment_container[0].find_elements_by_class_name('content')[0].text\n",
    "        arr_star.append(stars)\n",
    "        arr_comment.append(comment)\n",
    "    x = x + 1\n",
    "    if not next_comments.is_enabled():\n",
    "        break;\n",
    "    actions.move_to_element(menu)\n",
    "    actions.click(next_comments)\n",
    "    actions.perform()\n",
    "    time.sleep(0.05)\n",
    "print(x)\n",
    "data = {\n",
    "        'stars': arr_star,\n",
    "        'comment': arr_comment\n",
    "}\n",
    "df_product = pd.DataFrame.from_dict(data)\n",
    "df_product.to_csv('product_info.csv',mode='a', header=False)"
   ]
  },
  {
   "cell_type": "code",
   "execution_count": null,
   "metadata": {},
   "outputs": [],
   "source": []
  }
 ],
 "metadata": {
  "kernelspec": {
   "display_name": "Python 3",
   "language": "python",
   "name": "python3"
  },
  "language_info": {
   "codemirror_mode": {
    "name": "ipython",
    "version": 3
   },
   "file_extension": ".py",
   "mimetype": "text/x-python",
   "name": "python",
   "nbconvert_exporter": "python",
   "pygments_lexer": "ipython3",
   "version": "3.6.8"
  }
 },
 "nbformat": 4,
 "nbformat_minor": 2
}
