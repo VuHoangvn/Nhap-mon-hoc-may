{
 "cells": [
  {
   "cell_type": "code",
   "execution_count": 1,
   "metadata": {},
   "outputs": [],
   "source": [
    "from selenium import webdriver\n",
    "from selenium.webdriver.common.by import By\n",
    "from selenium.webdriver.support.ui import WebDriverWait\n",
    "from selenium.webdriver.support import expected_conditions as EC\n",
    "from selenium.common.exceptions import TimeoutException\n",
    "from selenium.webdriver.common.action_chains import ActionChains\n",
    "import pandas as pd\n",
    "import time"
   ]
  },
  {
   "cell_type": "code",
   "execution_count": 2,
   "metadata": {},
   "outputs": [],
   "source": [
    "## sử dụng driver của chrome để truy cập link\n",
    "driver = webdriver.Chrome(executable_path='./chromedriver')\n",
    "driver.get('https://www.lazada.vn')"
   ]
  },
  {
   "cell_type": "code",
   "execution_count": 3,
   "metadata": {},
   "outputs": [],
   "source": [
    "## tìm đến mục category của lazada\n",
    "# category = driver.find_elements_by_css_selector('.sub-item-remove-arrow')\n",
    "category = driver.find_elements_by_xpath(\"//li[@class='lzd-site-menu-sub-item']/a\")\n",
    "link_category = []\n",
    "for c in category:\n",
    "    link_category.append(c.get_attribute('href'))\n",
    "driver.close()"
   ]
  },
  {
   "cell_type": "code",
   "execution_count": 4,
   "metadata": {},
   "outputs": [
    {
     "name": "stdout",
     "output_type": "stream",
     "text": [
      "https://www.lazada.vn/laptop/\n",
      "https://www.lazada.vn/may-tinh-de-ban-va-phu-kien/\n",
      "https://www.lazada.vn/am-thanh/\n",
      "https://www.lazada.vn/camera-giam-sat-2/\n",
      "https://www.lazada.vn/may-anh-may-quay-phim/\n",
      "https://www.lazada.vn/may-quay-phim/\n",
      "https://www.lazada.vn/man-hinh-may-in/\n",
      "https://www.lazada.vn/dong-ho-thong-minh/\n",
      "https://www.lazada.vn/dieu-khien-choi-game/\n",
      "https://www.lazada.vn/phu-kien-dien-thoai-may-tinh-bang/\n",
      "https://www.lazada.vn/thiet-bi-thong-minh/\n",
      "https://www.lazada.vn/thiet-bi-so/\n",
      "https://www.lazada.vn/phu-kien-may-anh-may-quay-phim/\n",
      "https://www.lazada.vn/phu-kien-may-bay-camera/\n",
      "https://www.lazada.vn/thiet-bi-luu-tru-2/\n",
      "https://www.lazada.vn/phu-kien-may-vi-tinh/\n",
      "https://www.lazada.vn/linh-kien-may-tinh/\n",
      "https://www.lazada.vn/phu-kien-ong-kinh/\n",
      "https://www.lazada.vn/thiet-bi-mang/\n",
      "https://www.lazada.vn/phu-kien-may-choi-game/\n",
      "https://www.lazada.vn/tv-video-am-thanh-thiet-bi-deo-cong-nghe/\n",
      "https://www.lazada.vn/do-gia-dung-nho/\n",
      "https://www.lazada.vn/do-gia-dung-lon/\n",
      "https://www.lazada.vn/cham-soc-da-mat/\n",
      "https://www.lazada.vn/trang-diem/\n",
      "https://www.lazada.vn/dung-cu-cham-soc-sac-dep/\n",
      "https://www.lazada.vn/san-pham-tam-cham-soc-co-the/\n",
      "https://www.lazada.vn/san-pham-cham-soc-toc/\n",
      "https://www.lazada.vn/cham-soc-ca-nhan/\n",
      "https://www.lazada.vn/cham-soc-cho-nam-gioi/\n",
      "https://www.lazada.vn/nuoc-hoa/\n",
      "https://www.lazada.vn/thuc-pham-bo-sung/\n",
      "https://www.lazada.vn/thuc-pham-cho-sac-dep/\n",
      "https://www.lazada.vn/ho-tro-tinh-duc/\n",
      "https://www.lazada.vn/thiet-bi-y-te/\n",
      "https://www.lazada.vn/ta-dung-cu-ve-sinh/\n",
      "https://www.lazada.vn/sua-cong-thuc-bot-an-dam/\n",
      "https://www.lazada.vn/quan-ao-phu-kien-cho-be/\n",
      "https://www.lazada.vn/do-dung-bu-sua-an-dam/\n",
      "https://www.lazada.vn/xe-ghe-em-be/\n",
      "https://www.lazada.vn/cham-soc-tre-so-sinh-tre-nho/\n",
      "https://www.lazada.vn/tam-cham-soc-co-the-tre-so-sinh/\n",
      "https://www.lazada.vn/do-choi-tro-choi/\n",
      "https://www.lazada.vn/xe-mo-hinh-tro-choi-dieu-khien-tu-xa/\n",
      "https://www.lazada.vn/the-thao-tro-choi-ngoai-troi/\n",
      "https://www.lazada.vn/do-choi-cho-tre-so-sinh-chap-chung/\n",
      "https://www.lazada.vn/do-choi-giao-duc-tre-em/\n",
      "https://www.lazada.vn/bach-hoa-online-sua-uht-tiet-trung-sua-bot/\n",
      "https://www.lazada.vn/cac-loai-do-uong/\n",
      "https://www.lazada.vn/shop-Thuc-pham-tu-sua-do-lanh/\n",
      "https://www.lazada.vn/shop-do-hop/\n",
      "https://www.lazada.vn/shop-So-co-la-Snack-Keo/\n",
      "https://www.lazada.vn/shop-Nguyen-lieu-nau-an-lam-banh/\n",
      "https://www.lazada.vn/bach-hoa-online-chat-lau-chui-nha-cua/\n",
      "https://www.lazada.vn/bach-hoa-online-muong-nia-nhua/\n",
      "https://www.lazada.vn/cham-soc-nha-cua/\n",
      "https://www.lazada.vn/phu-kien-cho-thu-cung/\n",
      "https://www.lazada.vn/thuc-an-thu-cung/\n",
      "https://www.lazada.vn/do-dung-bep-phong-an/\n",
      "https://www.lazada.vn/tan-trang-nha-cua/\n",
      "https://www.lazada.vn/dung-cu-dien/\n",
      "https://www.lazada.vn/dung-cu-cam-tay-da-nang/\n",
      "https://www.lazada.vn/do-dung-phong-ngu-gia-dinh/\n",
      "https://www.lazada.vn/do-dung-phu-kien-phong-tam/\n",
      "https://www.lazada.vn/cac-loai-den/\n",
      "https://www.lazada.vn/san-pham-trang-tri-nha-cua/\n",
      "https://www.lazada.vn/san-pham-noi-that/\n",
      "https://www.lazada.vn/van-phong-pham-va-nghe-thu-cong/\n",
      "https://www.lazada.vn/sach/\n",
      "https://www.lazada.vn/nhac-cu-moi/\n",
      "https://www.lazada.vn/jeans-nu/\n",
      "https://www.lazada.vn/ao-nu/\n",
      "https://www.lazada.vn/do-ngu-noi-y/\n",
      "https://www.lazada.vn/phu-kien-cho-nu/\n",
      "https://www.lazada.vn/giay-nu-thoi-trang/\n",
      "https://www.lazada.vn/trang-phuc-cua-be-gai/\n",
      "https://www.lazada.vn/thoi-trang-giay-danh-cho-be-gai/\n",
      "https://www.lazada.vn/trang-phuc-nam/\n",
      "https://www.lazada.vn/giay-nam-thoi-trang/\n",
      "https://www.lazada.vn/do-lot-nam/\n",
      "https://www.lazada.vn/phu-kien-thoi-trang-nam/\n",
      "https://www.lazada.vn/trang-phuc-cua-be-trai/\n",
      "https://www.lazada.vn/thoi-trang-giay-cho-be-trai/\n",
      "https://www.lazada.vn/dong-ho-nu-thoi-trang/\n",
      "https://www.lazada.vn/Fashion-Accessories/\n",
      "https://www.lazada.vn/kinh-mat/\n",
      "https://www.lazada.vn/kinh-mat-2/\n",
      "https://www.lazada.vn/tui-cho-nu/\n",
      "https://www.lazada.vn/dong-ho-nam-gioi/\n",
      "https://www.lazada.vn/trang-suc-nam/\n",
      "https://www.lazada.vn/tui-nam/\n",
      "https://www.lazada.vn/vali-ba-lo-tui-du-lich-2/\n",
      "https://www.lazada.vn/tui-danh-cho-tre-em/\n",
      "https://www.lazada.vn/do-the-thao-nam/\n",
      "https://www.lazada.vn/quan-ao-the-thao-cho-nam/\n",
      "https://www.lazada.vn/do-the-thao-nu/\n",
      "https://www.lazada.vn/quan-ao-the-thao-cho-nu/\n",
      "https://www.lazada.vn/vali-ba-lo-tui-du-lich-2/\n",
      "https://www.lazada.vn/hoat-dong-da-ngoai/\n",
      "https://www.lazada.vn/dung-cu-de-tap-the-hinh/\n",
      "https://www.lazada.vn/cac-mon-the-thao-vot/\n",
      "https://www.lazada.vn/cac-mon-tap-luyen-doi-khang/\n",
      "https://www.lazada.vn/dam-boc-vo-thuat-danh-mma/\n",
      "https://www.lazada.vn/cac-mon-the-thao-duoi-nuoc/\n",
      "https://www.lazada.vn/phu-kien-the-thao/\n",
      "https://www.lazada.vn/xe-mo-to-xe-tay-ga/\n",
      "https://www.lazada.vn/cham-soc-o-to/\n",
      "https://www.lazada.vn/phu-kien-trong-o-to-xe-may/\n",
      "https://www.lazada.vn/phu-kien-ngoai-o-to-xe-may/\n",
      "https://www.lazada.vn/bo-phan-phu-tung-thay-the-cho-xe/\n",
      "https://www.lazada.vn/hang-dien-tu-2/\n",
      "https://www.lazada.vn/dau-nhot-o-to-xe-may/\n",
      "https://www.lazada.vn/bo-phan-mo-to-phu-tung-thay-the-cho-mo-to/\n",
      "https://www.lazada.vn/do-bao-ho-mo-to/\n",
      "https://www.lazada.vn/phu-kien-gan-ngoai-mo-to/\n",
      "https://www.lazada.vn/dau-nhot-mo-to/\n",
      "https://www.lazada.vn/banh-xe-lop-xe-may/\n"
     ]
    }
   ],
   "source": [
    "for item in link_category:\n",
    "    print(item)\n"
   ]
  },
  {
   "cell_type": "code",
   "execution_count": 7,
   "metadata": {},
   "outputs": [
    {
     "name": "stdout",
     "output_type": "stream",
     "text": [
      "117\n"
     ]
    }
   ],
   "source": [
    "print(len(link_category))"
   ]
  },
  {
   "cell_type": "code",
   "execution_count": 11,
   "metadata": {},
   "outputs": [],
   "source": [
    "f = open(\"more_data.txt\", \"a\")\n",
    "for link in link_category:\n",
    "    driver = webdriver.Chrome(executable_path='./chromedriver')\n",
    "    driver.get(link)\n",
    "    xpath = \"//div[@class='c2prKC']/div/div/div/div[@class='cRjKsc']/a\"\n",
    "    sub_elem = driver.find_elements_by_xpath(xpath)\n",
    "    for s in sub_elem:\n",
    "        f.write(s.get_attribute('href'))\n",
    "        f.write(\"\\n\")\n",
    "    driver.close()"
   ]
  },
  {
   "cell_type": "code",
   "execution_count": null,
   "metadata": {},
   "outputs": [],
   "source": []
  },
  {
   "cell_type": "code",
   "execution_count": 6,
   "metadata": {},
   "outputs": [
    {
     "ename": "IndexError",
     "evalue": "list index out of range",
     "output_type": "error",
     "traceback": [
      "\u001b[0;31m---------------------------------------------------------------------------\u001b[0m",
      "\u001b[0;31mIndexError\u001b[0m                                Traceback (most recent call last)",
      "\u001b[0;32m<ipython-input-6-40663380b645>\u001b[0m in \u001b[0;36m<module>\u001b[0;34m\u001b[0m\n\u001b[1;32m     10\u001b[0m \u001b[0;32mwhile\u001b[0m \u001b[0;32mTrue\u001b[0m\u001b[0;34m:\u001b[0m\u001b[0;34m\u001b[0m\u001b[0;34m\u001b[0m\u001b[0m\n\u001b[1;32m     11\u001b[0m     \u001b[0mreview_containers\u001b[0m \u001b[0;34m=\u001b[0m \u001b[0mdriver\u001b[0m\u001b[0;34m.\u001b[0m\u001b[0mfind_elements_by_class_name\u001b[0m\u001b[0;34m(\u001b[0m\u001b[0;34m'mod-reviews'\u001b[0m\u001b[0;34m)\u001b[0m\u001b[0;34m\u001b[0m\u001b[0;34m\u001b[0m\u001b[0m\n\u001b[0;32m---> 12\u001b[0;31m     \u001b[0mmod_reviews\u001b[0m \u001b[0;34m=\u001b[0m \u001b[0mreview_containers\u001b[0m\u001b[0;34m[\u001b[0m\u001b[0;36m0\u001b[0m\u001b[0;34m]\u001b[0m\u001b[0;34m.\u001b[0m\u001b[0mfind_elements_by_class_name\u001b[0m\u001b[0;34m(\u001b[0m\u001b[0;34m'item'\u001b[0m\u001b[0;34m)\u001b[0m\u001b[0;34m\u001b[0m\u001b[0;34m\u001b[0m\u001b[0m\n\u001b[0m\u001b[1;32m     13\u001b[0m     \u001b[0mi\u001b[0m \u001b[0;34m=\u001b[0m \u001b[0;36m1\u001b[0m\u001b[0;34m\u001b[0m\u001b[0;34m\u001b[0m\u001b[0m\n\u001b[1;32m     14\u001b[0m     \u001b[0;32mfor\u001b[0m \u001b[0mreview\u001b[0m \u001b[0;32min\u001b[0m \u001b[0mmod_reviews\u001b[0m\u001b[0;34m:\u001b[0m\u001b[0;34m\u001b[0m\u001b[0;34m\u001b[0m\u001b[0m\n",
      "\u001b[0;31mIndexError\u001b[0m: list index out of range"
     ]
    }
   ],
   "source": [
    "driver = webdriver.Chrome(executable_path='./chromedriver')\n",
    "driver.get(link_sub_category[0])\n",
    "\n",
    "menu = driver.find_element_by_css_selector('.next-pagination-pages')\n",
    "next_comments = driver.find_element_by_css_selector('.next')\n",
    "actions = ActionChains(driver)\n",
    "x = 0;\n",
    "arr_star = []\n",
    "arr_comment = []\n",
    "while True:\n",
    "    review_containers = driver.find_elements_by_class_name('mod-reviews')\n",
    "    mod_reviews = review_containers[0].find_elements_by_class_name('item')\n",
    "    i = 1\n",
    "    for review in mod_reviews:  \n",
    "        container = review.find_elements_by_class_name('top')\n",
    "        star_container = container[0].find_elements_by_class_name('container-star')\n",
    "        xpath = '//div[@class=\"mod-reviews\"]/div[%d]/div[@class = \"top\"]/div[@class = \"container-star starCtn left\"]/img[@src = \"//laz-img-cdn.alicdn.com/tfs/TB19ZvEgfDH8KJjy1XcXXcpdXXa-64-64.png\"]'\n",
    "        star_imgs = driver.find_elements_by_xpath(xpath % i)\n",
    "        stars = len(star_imgs)\n",
    "        i = i + 1\n",
    "        comment_container = review.find_elements_by_class_name('item-content')\n",
    "        print(comment_container)\n",
    "        comment = comment_container[0].find_elements_by_class_name('content')[0].text\n",
    "        arr_star.append(stars)\n",
    "        arr_comment.append(comment)\n",
    "    x = x + 1\n",
    "    if not next_comments.is_enabled():\n",
    "        break;\n",
    "    actions.move_to_element(menu)\n",
    "    actions.click(next_comments)\n",
    "    actions.perform()\n",
    "    time.sleep(0.05)\n",
    "\n",
    "data = {\n",
    "        'stars': arr_star,\n",
    "        'comment': arr_comment\n",
    "}\n",
    "df_product = pd.DataFrame.from_dict(data)\n",
    "df_product.to_csv('product_info.csv',mode='a', header=False)\n",
    "driver.close()"
   ]
  },
  {
   "cell_type": "code",
   "execution_count": null,
   "metadata": {},
   "outputs": [],
   "source": []
  }
 ],
 "metadata": {
  "kernelspec": {
   "display_name": "Python 3",
   "language": "python",
   "name": "python3"
  },
  "language_info": {
   "codemirror_mode": {
    "name": "ipython",
    "version": 3
   },
   "file_extension": ".py",
   "mimetype": "text/x-python",
   "name": "python",
   "nbconvert_exporter": "python",
   "pygments_lexer": "ipython3",
   "version": "3.6.8"
  }
 },
 "nbformat": 4,
 "nbformat_minor": 2
}
