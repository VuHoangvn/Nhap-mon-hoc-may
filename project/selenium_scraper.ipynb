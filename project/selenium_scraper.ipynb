{
 "cells": [
  {
   "cell_type": "code",
   "execution_count": 5,
   "metadata": {},
   "outputs": [],
   "source": [
    "from selenium import webdriver\n",
    "from selenium.webdriver.common.by import By\n",
    "from selenium.webdriver.support.ui import WebDriverWait\n",
    "from selenium.webdriver.support import expected_conditions as EC\n",
    "from selenium.common.exceptions import TimeoutException\n",
    "from selenium.webdriver.common.action_chains import ActionChains\n",
    "import pandas as pd\n",
    "import time"
   ]
  },
  {
   "cell_type": "code",
   "execution_count": 16,
   "metadata": {},
   "outputs": [],
   "source": [
    "## truy cập link vs chrome driver\n",
    "driver = webdriver.Chrome(executable_path='./chromedriver')\n",
    "driver.get('https://www.lazada.vn/products/pc-choi-game-a6-6400-36ghz-ram-8g-vga-4g-hdd-250g-case-nguon-phim-chuot-led-nhu-hinh-i272770358-s414918507.html?search=1')"
   ]
  },
  {
   "cell_type": "code",
   "execution_count": 17,
   "metadata": {},
   "outputs": [
    {
     "name": "stdout",
     "output_type": "stream",
     "text": [
      "[<selenium.webdriver.remote.webelement.WebElement (session=\"e72e6d45075b4cd3374c1c78f23cb05e\", element=\"432d4367-2afd-4f94-83b8-bda1c3321303\")>, <selenium.webdriver.remote.webelement.WebElement (session=\"e72e6d45075b4cd3374c1c78f23cb05e\", element=\"f52453f0-ca6c-411f-9341-b7e9b7eedd8f\")>]\n",
      "[<selenium.webdriver.remote.webelement.WebElement (session=\"e72e6d45075b4cd3374c1c78f23cb05e\", element=\"78b24f2c-aa8f-409c-9778-56064c203775\")>, <selenium.webdriver.remote.webelement.WebElement (session=\"e72e6d45075b4cd3374c1c78f23cb05e\", element=\"625555e4-3df4-4917-b900-3693186cac2f\")>]\n",
      "[<selenium.webdriver.remote.webelement.WebElement (session=\"e72e6d45075b4cd3374c1c78f23cb05e\", element=\"d0737df0-1b6f-436e-b309-55682bebb5e0\")>, <selenium.webdriver.remote.webelement.WebElement (session=\"e72e6d45075b4cd3374c1c78f23cb05e\", element=\"7087481e-0f24-42b6-a793-ada858531b36\")>]\n",
      "[<selenium.webdriver.remote.webelement.WebElement (session=\"e72e6d45075b4cd3374c1c78f23cb05e\", element=\"0b1e9da9-d4ea-4894-b826-f894511833a3\")>, <selenium.webdriver.remote.webelement.WebElement (session=\"e72e6d45075b4cd3374c1c78f23cb05e\", element=\"6c0cbc16-6cb4-4669-b1cc-7d323fa65a77\")>]\n",
      "[<selenium.webdriver.remote.webelement.WebElement (session=\"e72e6d45075b4cd3374c1c78f23cb05e\", element=\"409532a1-546b-4e05-a838-3f368b4463a6\")>, <selenium.webdriver.remote.webelement.WebElement (session=\"e72e6d45075b4cd3374c1c78f23cb05e\", element=\"59003311-3d7b-420d-bea1-c56e243b3b8c\")>]\n",
      "[<selenium.webdriver.remote.webelement.WebElement (session=\"e72e6d45075b4cd3374c1c78f23cb05e\", element=\"432d4367-2afd-4f94-83b8-bda1c3321303\")>, <selenium.webdriver.remote.webelement.WebElement (session=\"e72e6d45075b4cd3374c1c78f23cb05e\", element=\"f52453f0-ca6c-411f-9341-b7e9b7eedd8f\")>]\n",
      "[<selenium.webdriver.remote.webelement.WebElement (session=\"e72e6d45075b4cd3374c1c78f23cb05e\", element=\"78b24f2c-aa8f-409c-9778-56064c203775\")>, <selenium.webdriver.remote.webelement.WebElement (session=\"e72e6d45075b4cd3374c1c78f23cb05e\", element=\"625555e4-3df4-4917-b900-3693186cac2f\")>]\n",
      "[<selenium.webdriver.remote.webelement.WebElement (session=\"e72e6d45075b4cd3374c1c78f23cb05e\", element=\"d0737df0-1b6f-436e-b309-55682bebb5e0\")>, <selenium.webdriver.remote.webelement.WebElement (session=\"e72e6d45075b4cd3374c1c78f23cb05e\", element=\"7087481e-0f24-42b6-a793-ada858531b36\")>]\n",
      "[<selenium.webdriver.remote.webelement.WebElement (session=\"e72e6d45075b4cd3374c1c78f23cb05e\", element=\"0b1e9da9-d4ea-4894-b826-f894511833a3\")>, <selenium.webdriver.remote.webelement.WebElement (session=\"e72e6d45075b4cd3374c1c78f23cb05e\", element=\"6c0cbc16-6cb4-4669-b1cc-7d323fa65a77\")>]\n",
      "[<selenium.webdriver.remote.webelement.WebElement (session=\"e72e6d45075b4cd3374c1c78f23cb05e\", element=\"409532a1-546b-4e05-a838-3f368b4463a6\")>, <selenium.webdriver.remote.webelement.WebElement (session=\"e72e6d45075b4cd3374c1c78f23cb05e\", element=\"59003311-3d7b-420d-bea1-c56e243b3b8c\")>]\n",
      "[<selenium.webdriver.remote.webelement.WebElement (session=\"e72e6d45075b4cd3374c1c78f23cb05e\", element=\"432d4367-2afd-4f94-83b8-bda1c3321303\")>, <selenium.webdriver.remote.webelement.WebElement (session=\"e72e6d45075b4cd3374c1c78f23cb05e\", element=\"f52453f0-ca6c-411f-9341-b7e9b7eedd8f\")>]\n",
      "[<selenium.webdriver.remote.webelement.WebElement (session=\"e72e6d45075b4cd3374c1c78f23cb05e\", element=\"78b24f2c-aa8f-409c-9778-56064c203775\")>, <selenium.webdriver.remote.webelement.WebElement (session=\"e72e6d45075b4cd3374c1c78f23cb05e\", element=\"625555e4-3df4-4917-b900-3693186cac2f\")>]\n",
      "[<selenium.webdriver.remote.webelement.WebElement (session=\"e72e6d45075b4cd3374c1c78f23cb05e\", element=\"d0737df0-1b6f-436e-b309-55682bebb5e0\")>, <selenium.webdriver.remote.webelement.WebElement (session=\"e72e6d45075b4cd3374c1c78f23cb05e\", element=\"7087481e-0f24-42b6-a793-ada858531b36\")>]\n",
      "[<selenium.webdriver.remote.webelement.WebElement (session=\"e72e6d45075b4cd3374c1c78f23cb05e\", element=\"0b1e9da9-d4ea-4894-b826-f894511833a3\")>, <selenium.webdriver.remote.webelement.WebElement (session=\"e72e6d45075b4cd3374c1c78f23cb05e\", element=\"6c0cbc16-6cb4-4669-b1cc-7d323fa65a77\")>]\n",
      "[<selenium.webdriver.remote.webelement.WebElement (session=\"e72e6d45075b4cd3374c1c78f23cb05e\", element=\"409532a1-546b-4e05-a838-3f368b4463a6\")>, <selenium.webdriver.remote.webelement.WebElement (session=\"e72e6d45075b4cd3374c1c78f23cb05e\", element=\"59003311-3d7b-420d-bea1-c56e243b3b8c\")>]\n",
      "[<selenium.webdriver.remote.webelement.WebElement (session=\"e72e6d45075b4cd3374c1c78f23cb05e\", element=\"432d4367-2afd-4f94-83b8-bda1c3321303\")>, <selenium.webdriver.remote.webelement.WebElement (session=\"e72e6d45075b4cd3374c1c78f23cb05e\", element=\"f52453f0-ca6c-411f-9341-b7e9b7eedd8f\")>]\n",
      "[<selenium.webdriver.remote.webelement.WebElement (session=\"e72e6d45075b4cd3374c1c78f23cb05e\", element=\"78b24f2c-aa8f-409c-9778-56064c203775\")>, <selenium.webdriver.remote.webelement.WebElement (session=\"e72e6d45075b4cd3374c1c78f23cb05e\", element=\"625555e4-3df4-4917-b900-3693186cac2f\")>]\n",
      "[<selenium.webdriver.remote.webelement.WebElement (session=\"e72e6d45075b4cd3374c1c78f23cb05e\", element=\"d0737df0-1b6f-436e-b309-55682bebb5e0\")>, <selenium.webdriver.remote.webelement.WebElement (session=\"e72e6d45075b4cd3374c1c78f23cb05e\", element=\"7087481e-0f24-42b6-a793-ada858531b36\")>]\n",
      "[<selenium.webdriver.remote.webelement.WebElement (session=\"e72e6d45075b4cd3374c1c78f23cb05e\", element=\"0b1e9da9-d4ea-4894-b826-f894511833a3\")>, <selenium.webdriver.remote.webelement.WebElement (session=\"e72e6d45075b4cd3374c1c78f23cb05e\", element=\"6c0cbc16-6cb4-4669-b1cc-7d323fa65a77\")>]\n",
      "[<selenium.webdriver.remote.webelement.WebElement (session=\"e72e6d45075b4cd3374c1c78f23cb05e\", element=\"409532a1-546b-4e05-a838-3f368b4463a6\")>, <selenium.webdriver.remote.webelement.WebElement (session=\"e72e6d45075b4cd3374c1c78f23cb05e\", element=\"59003311-3d7b-420d-bea1-c56e243b3b8c\")>]\n",
      "[<selenium.webdriver.remote.webelement.WebElement (session=\"e72e6d45075b4cd3374c1c78f23cb05e\", element=\"432d4367-2afd-4f94-83b8-bda1c3321303\")>, <selenium.webdriver.remote.webelement.WebElement (session=\"e72e6d45075b4cd3374c1c78f23cb05e\", element=\"f52453f0-ca6c-411f-9341-b7e9b7eedd8f\")>]\n",
      "[<selenium.webdriver.remote.webelement.WebElement (session=\"e72e6d45075b4cd3374c1c78f23cb05e\", element=\"78b24f2c-aa8f-409c-9778-56064c203775\")>, <selenium.webdriver.remote.webelement.WebElement (session=\"e72e6d45075b4cd3374c1c78f23cb05e\", element=\"625555e4-3df4-4917-b900-3693186cac2f\")>]\n",
      "[<selenium.webdriver.remote.webelement.WebElement (session=\"e72e6d45075b4cd3374c1c78f23cb05e\", element=\"d0737df0-1b6f-436e-b309-55682bebb5e0\")>, <selenium.webdriver.remote.webelement.WebElement (session=\"e72e6d45075b4cd3374c1c78f23cb05e\", element=\"7087481e-0f24-42b6-a793-ada858531b36\")>]\n",
      "[<selenium.webdriver.remote.webelement.WebElement (session=\"e72e6d45075b4cd3374c1c78f23cb05e\", element=\"0b1e9da9-d4ea-4894-b826-f894511833a3\")>, <selenium.webdriver.remote.webelement.WebElement (session=\"e72e6d45075b4cd3374c1c78f23cb05e\", element=\"6c0cbc16-6cb4-4669-b1cc-7d323fa65a77\")>]\n",
      "[<selenium.webdriver.remote.webelement.WebElement (session=\"e72e6d45075b4cd3374c1c78f23cb05e\", element=\"409532a1-546b-4e05-a838-3f368b4463a6\")>, <selenium.webdriver.remote.webelement.WebElement (session=\"e72e6d45075b4cd3374c1c78f23cb05e\", element=\"59003311-3d7b-420d-bea1-c56e243b3b8c\")>]\n",
      "[<selenium.webdriver.remote.webelement.WebElement (session=\"e72e6d45075b4cd3374c1c78f23cb05e\", element=\"432d4367-2afd-4f94-83b8-bda1c3321303\")>, <selenium.webdriver.remote.webelement.WebElement (session=\"e72e6d45075b4cd3374c1c78f23cb05e\", element=\"f52453f0-ca6c-411f-9341-b7e9b7eedd8f\")>]\n",
      "[<selenium.webdriver.remote.webelement.WebElement (session=\"e72e6d45075b4cd3374c1c78f23cb05e\", element=\"78b24f2c-aa8f-409c-9778-56064c203775\")>, <selenium.webdriver.remote.webelement.WebElement (session=\"e72e6d45075b4cd3374c1c78f23cb05e\", element=\"625555e4-3df4-4917-b900-3693186cac2f\")>]\n",
      "[<selenium.webdriver.remote.webelement.WebElement (session=\"e72e6d45075b4cd3374c1c78f23cb05e\", element=\"d0737df0-1b6f-436e-b309-55682bebb5e0\")>, <selenium.webdriver.remote.webelement.WebElement (session=\"e72e6d45075b4cd3374c1c78f23cb05e\", element=\"7087481e-0f24-42b6-a793-ada858531b36\")>]\n",
      "[<selenium.webdriver.remote.webelement.WebElement (session=\"e72e6d45075b4cd3374c1c78f23cb05e\", element=\"0b1e9da9-d4ea-4894-b826-f894511833a3\")>, <selenium.webdriver.remote.webelement.WebElement (session=\"e72e6d45075b4cd3374c1c78f23cb05e\", element=\"6c0cbc16-6cb4-4669-b1cc-7d323fa65a77\")>]\n",
      "[<selenium.webdriver.remote.webelement.WebElement (session=\"e72e6d45075b4cd3374c1c78f23cb05e\", element=\"409532a1-546b-4e05-a838-3f368b4463a6\")>, <selenium.webdriver.remote.webelement.WebElement (session=\"e72e6d45075b4cd3374c1c78f23cb05e\", element=\"59003311-3d7b-420d-bea1-c56e243b3b8c\")>]\n"
     ]
    },
    {
     "name": "stdout",
     "output_type": "stream",
     "text": [
      "[<selenium.webdriver.remote.webelement.WebElement (session=\"e72e6d45075b4cd3374c1c78f23cb05e\", element=\"432d4367-2afd-4f94-83b8-bda1c3321303\")>, <selenium.webdriver.remote.webelement.WebElement (session=\"e72e6d45075b4cd3374c1c78f23cb05e\", element=\"f52453f0-ca6c-411f-9341-b7e9b7eedd8f\")>]\n",
      "[<selenium.webdriver.remote.webelement.WebElement (session=\"e72e6d45075b4cd3374c1c78f23cb05e\", element=\"78b24f2c-aa8f-409c-9778-56064c203775\")>, <selenium.webdriver.remote.webelement.WebElement (session=\"e72e6d45075b4cd3374c1c78f23cb05e\", element=\"625555e4-3df4-4917-b900-3693186cac2f\")>]\n",
      "[<selenium.webdriver.remote.webelement.WebElement (session=\"e72e6d45075b4cd3374c1c78f23cb05e\", element=\"d0737df0-1b6f-436e-b309-55682bebb5e0\")>, <selenium.webdriver.remote.webelement.WebElement (session=\"e72e6d45075b4cd3374c1c78f23cb05e\", element=\"7087481e-0f24-42b6-a793-ada858531b36\")>]\n",
      "[<selenium.webdriver.remote.webelement.WebElement (session=\"e72e6d45075b4cd3374c1c78f23cb05e\", element=\"0b1e9da9-d4ea-4894-b826-f894511833a3\")>, <selenium.webdriver.remote.webelement.WebElement (session=\"e72e6d45075b4cd3374c1c78f23cb05e\", element=\"6c0cbc16-6cb4-4669-b1cc-7d323fa65a77\")>]\n",
      "[<selenium.webdriver.remote.webelement.WebElement (session=\"e72e6d45075b4cd3374c1c78f23cb05e\", element=\"409532a1-546b-4e05-a838-3f368b4463a6\")>, <selenium.webdriver.remote.webelement.WebElement (session=\"e72e6d45075b4cd3374c1c78f23cb05e\", element=\"59003311-3d7b-420d-bea1-c56e243b3b8c\")>]\n",
      "[<selenium.webdriver.remote.webelement.WebElement (session=\"e72e6d45075b4cd3374c1c78f23cb05e\", element=\"432d4367-2afd-4f94-83b8-bda1c3321303\")>, <selenium.webdriver.remote.webelement.WebElement (session=\"e72e6d45075b4cd3374c1c78f23cb05e\", element=\"f52453f0-ca6c-411f-9341-b7e9b7eedd8f\")>]\n",
      "[<selenium.webdriver.remote.webelement.WebElement (session=\"e72e6d45075b4cd3374c1c78f23cb05e\", element=\"78b24f2c-aa8f-409c-9778-56064c203775\")>, <selenium.webdriver.remote.webelement.WebElement (session=\"e72e6d45075b4cd3374c1c78f23cb05e\", element=\"625555e4-3df4-4917-b900-3693186cac2f\")>]\n",
      "[<selenium.webdriver.remote.webelement.WebElement (session=\"e72e6d45075b4cd3374c1c78f23cb05e\", element=\"d0737df0-1b6f-436e-b309-55682bebb5e0\")>, <selenium.webdriver.remote.webelement.WebElement (session=\"e72e6d45075b4cd3374c1c78f23cb05e\", element=\"7087481e-0f24-42b6-a793-ada858531b36\")>]\n",
      "[<selenium.webdriver.remote.webelement.WebElement (session=\"e72e6d45075b4cd3374c1c78f23cb05e\", element=\"0b1e9da9-d4ea-4894-b826-f894511833a3\")>, <selenium.webdriver.remote.webelement.WebElement (session=\"e72e6d45075b4cd3374c1c78f23cb05e\", element=\"6c0cbc16-6cb4-4669-b1cc-7d323fa65a77\")>]\n",
      "[<selenium.webdriver.remote.webelement.WebElement (session=\"e72e6d45075b4cd3374c1c78f23cb05e\", element=\"409532a1-546b-4e05-a838-3f368b4463a6\")>, <selenium.webdriver.remote.webelement.WebElement (session=\"e72e6d45075b4cd3374c1c78f23cb05e\", element=\"59003311-3d7b-420d-bea1-c56e243b3b8c\")>]\n"
     ]
    }
   ],
   "source": [
    "## tìm elem chứa comment và star\n",
    "menu = driver.find_element_by_css_selector('.next-pagination-pages')\n",
    "next_comments = driver.find_element_by_css_selector('.next')\n",
    "actions = ActionChains(driver)\n",
    "x = 0;\n",
    "arr_star = []\n",
    "arr_comment = []\n",
    "while x < 8:\n",
    "    review_containers = driver.find_elements_by_class_name('mod-reviews')\n",
    "    mod_reviews = review_containers[0].find_elements_by_class_name('item')\n",
    "    i = 1\n",
    "    for review in mod_reviews:  \n",
    "        container = review.find_elements_by_class_name('top')\n",
    "        star_container = container[0].find_elements_by_class_name('container-star')\n",
    "        xpath = '//div[@class=\"mod-reviews\"]/div[%d]/div[@class = \"top\"]/div[@class = \"container-star starCtn left\"]/img[@src = \"//laz-img-cdn.alicdn.com/tfs/TB19ZvEgfDH8KJjy1XcXXcpdXXa-64-64.png\"]'\n",
    "        star_imgs = driver.find_elements_by_xpath(xpath % i)\n",
    "        stars = len(star_imgs)\n",
    "        i = i + 1\n",
    "        comment_container = review.find_elements_by_class_name('item-content')\n",
    "        print(comment_container)\n",
    "        comment = comment_container[0].find_elements_by_class_name('content')[0].text\n",
    "        arr_star.append(stars)\n",
    "        arr_comment.append(comment)\n",
    "    x = x + 1\n",
    "    if not next_comments.is_enabled():\n",
    "        break;\n",
    "    actions.move_to_element(menu)\n",
    "    actions.click(next_comments)\n",
    "    actions.perform()\n",
    "    time.sleep(0.05)\n",
    "\n",
    "data = {\n",
    "        'stars': arr_star,\n",
    "        'comment': arr_comment\n",
    "}\n",
    "df_product = pd.DataFrame.from_dict(data)\n",
    "df_product.to_csv('product.csv', header=False)"
   ]
  },
  {
   "cell_type": "code",
   "execution_count": null,
   "metadata": {},
   "outputs": [],
   "source": []
  }
 ],
 "metadata": {
  "kernelspec": {
   "display_name": "Python 3",
   "language": "python",
   "name": "python3"
  },
  "language_info": {
   "codemirror_mode": {
    "name": "ipython",
    "version": 3
   },
   "file_extension": ".py",
   "mimetype": "text/x-python",
   "name": "python",
   "nbconvert_exporter": "python",
   "pygments_lexer": "ipython3",
   "version": "3.6.8"
  }
 },
 "nbformat": 4,
 "nbformat_minor": 2
}
